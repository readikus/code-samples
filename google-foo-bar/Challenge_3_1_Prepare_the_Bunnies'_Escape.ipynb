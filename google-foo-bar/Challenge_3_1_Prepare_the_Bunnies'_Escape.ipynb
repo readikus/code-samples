{
  "nbformat": 4,
  "nbformat_minor": 0,
  "metadata": {
    "colab": {
      "name": "Challenge 3.1 - Prepare the Bunnies' Escape.ipynb",
      "provenance": [],
      "collapsed_sections": [],
      "authorship_tag": "ABX9TyN27o9zUp/kqzpWn69JAKQl",
      "include_colab_link": true
    },
    "kernelspec": {
      "name": "python3",
      "display_name": "Python 3"
    },
    "language_info": {
      "name": "python"
    }
  },
  "cells": [
    {
      "cell_type": "markdown",
      "metadata": {
        "id": "view-in-github",
        "colab_type": "text"
      },
      "source": [
        "<a href=\"https://colab.research.google.com/github/readikus/code-samples/blob/main/google-foo-bar/Challenge_3_1_Prepare_the_Bunnies'_Escape.ipynb\" target=\"_parent\"><img src=\"https://colab.research.google.com/assets/colab-badge.svg\" alt=\"Open In Colab\"/></a>"
      ]
    },
    {
      "cell_type": "markdown",
      "metadata": {
        "id": "cgRTQ3pj26nu"
      },
      "source": [
        "# Prepare the Bunnies' Escape\n",
        "\n",
        "## Problem Definition:\n",
        "\n",
        "You're awfully close to destroying the LAMBCHOP doomsday device and freeing Commander Lambda's bunny prisoners, but once they're free of the prison blocks, the bunnies are going to need to escape Lambda's space station via the escape pods as quickly as possible. Unfortunately, the halls of the space station are a maze of corridors and dead ends that will be a deathtrap for the escaping bunnies. Fortunately, Commander Lambda has put you in charge of a remodeling project that will give you the opportunity to make things a little easier for the bunnies. Unfortunately (again), you can't just remove all obstacles between the bunnies and the escape pods - at most you can remove one wall per escape pod path, both to maintain structural integrity of the station and to avoid arousing Commander Lambda's suspicions. \n",
        "\n",
        "You have maps of parts of the space station, each starting at a prison exit and ending at the door to an escape pod. The map is represented as a matrix of 0s and 1s, where 0s are passable space and 1s are impassable walls. The door out of the prison is at the top left (0,0) and the door into an escape pod is at the bottom right (w-1,h-1). \n",
        "\n",
        "Write a function solution(map) that generates the length of the shortest path from the prison door to the escape pod, where you are allowed to remove one wall as part of your remodeling plans. The path length is the total number of nodes you pass through, counting both the entrance and exit nodes. The starting and ending positions are always passable (0). The map will always be solvable, though you may or may not need to remove a wall. The height and width of the map can be from 2 to 20. Moves can only be made in cardinal directions; no diagonal moves are allowed.\n",
        "\n",
        "## Test cases\n",
        "\n",
        "Your code should pass the following test cases.\n",
        "Note that it may also be run against hidden test cases not shown here.\n",
        "\n",
        "```\n",
        "Input:\n",
        "solution.solution([\n",
        "    [0, 1, 1, 0],\n",
        "    [0, 0, 0, 1],\n",
        "    [1, 1, 0, 0],\n",
        "    [1, 1, 1, 0]])\n",
        "Output:\n",
        "    7\n",
        "\n",
        "Input:\n",
        "solution.solution([\n",
        "    [0, 0, 0, 0, 0, 0],\n",
        "    [1, 1, 1, 1, 1, 0],\n",
        "    [0, 0, 0, 0, 0, 0],\n",
        "    [0, 1, 1, 1, 1, 1],\n",
        "    [0, 1, 1, 1, 1, 1],\n",
        "    [0, 0, 0, 0, 0, 0]])\n",
        "Output:\n",
        "    11\n",
        "```"
      ]
    },
    {
      "cell_type": "markdown",
      "metadata": {
        "id": "8ucBSitTzVuJ"
      },
      "source": [
        "## Solution Notes\n",
        "\n",
        "This is essentially a search problem, with the twist being we are allowed one costly move. To simulate this, the algorithm creates two search matricies that are the same dimensions as the grid. The value at i, j in these search matrices is the lowest cost of getting there from the start cell, calculated at a cost of 1 per move. The search goes through all the surrounding cells, until it hits a 1.\n",
        "\n",
        "Once we have these two matrices, we need to find the lowest point of intersect - this is the point at which the two paths is the lowest (so either the place where the single allowable wall is, or if a clear path is found, it will be the sum of the start and end cells. "
      ]
    },
    {
      "cell_type": "code",
      "metadata": {
        "id": "_jbhDZ271tJ9"
      },
      "source": [
        "def get_goal(map):\n",
        "    return (len(map) - 1, len(map[len(map) - 1]) - 1)\n",
        "\n",
        "def path_to_non_zero_paths(map, start_i, start_j):\n",
        "    width = len(map[0])\n",
        "    height = len(map)\n",
        "    # create empty map of moves\n",
        "    board = [[None for i in range(width)] for i in range(height)]\n",
        "    # start counting at the first cell...\n",
        "    board[start_i][start_j] = 1\n",
        "    # start searching from the specified cell\n",
        "    open_set = [(start_i, start_j)]\n",
        "    while open_set:\n",
        "        current_position = open_set.pop(0)\n",
        "        [x, y] = current_position#[0]\n",
        "        # look at the x/y\n",
        "        for direction in [(1, 0), (-1, 0), (0, -1), (0, 1)]:\n",
        "            # go to the next cell...\n",
        "            next_x = x + direction[0]\n",
        "            next_y = y + direction[1]\n",
        "            # within range and hasn't been visited yet...\n",
        "            if 0 <= next_x < height and 0 <= next_y < width and board[next_x][next_y] is None:\n",
        "                # set next move place to be previous place + 1\n",
        "                board[next_x][next_y] = board[x][y] + 1\n",
        "                # only continue searching from here if it isn't a wall\n",
        "                if map[next_x][next_y] == 0:\n",
        "                    open_set.append((next_x, next_y)) \n",
        "                  \n",
        "    return board\n",
        "\n",
        "def solution(map):\n",
        "\n",
        "    forward = path_to_non_zero_paths(map, 0, 0)\n",
        "    backward = path_to_non_zero_paths(map, len(map) - 1, len(map[len(map) - 1]) - 1)\n",
        "    shortest_len = float('inf')\n",
        "\n",
        "    for i in range(0, len(map)):\n",
        "        for j in range(0, len(map[i])):\n",
        "          if forward[i][j] != None and backward[i][j] != None:\n",
        "              shortest_len = min(forward[i][j] + backward[i][j] - 1, shortest_len)\n",
        "\n",
        "    return shortest_len"
      ],
      "execution_count": 71,
      "outputs": []
    },
    {
      "cell_type": "code",
      "metadata": {
        "colab": {
          "base_uri": "https://localhost:8080/"
        },
        "id": "wpGC-5r17NsZ",
        "outputId": "f87e3d58-4eb3-4cf8-8348-d7b839118ada"
      },
      "source": [
        "import unittest\n",
        "\n",
        "class TestSolution(unittest.TestCase):\n",
        "    \n",
        "    def test_solution(self):      \n",
        "                \n",
        "        map_big_easy_0 = [\n",
        "          [0, 0, 0, 0, 0, 0, 1, 1, 1, 1, 1, 1, 1, 1, 1],\n",
        "          [1, 1, 1, 1, 1, 0, 0, 0, 0, 0, 0, 0, 0, 0, 0],\n",
        "          [1, 1, 1, 1, 1, 0, 0, 1, 1, 1, 1, 1, 1, 0, 1],\n",
        "          [1, 1, 0, 1, 1, 1, 1, 0, 0, 0, 0, 0, 0, 0, 0],\n",
        "          [0, 1, 0, 1, 1, 1, 1, 0, 0, 0, 0, 0, 0, 0, 0],\n",
        "          [0, 0, 0, 0, 0, 1, 1, 0, 0, 0, 0, 0, 0, 0, 0],\n",
        "          [0, 0, 0, 0, 0, 1, 1, 1, 1, 1, 1, 1, 1, 1, 0],\n",
        "          [1, 1, 1, 1, 1, 1, 1, 1, 1, 1, 0, 0, 0, 0, 0],\n",
        "          [0, 0, 0, 0, 0, 0, 0, 1, 1, 1, 1, 1, 1, 0, 1],\n",
        "          [1, 1, 0, 1, 1, 1, 1, 0, 0, 0, 0, 0, 0, 0, 0],\n",
        "          [0, 1, 0, 1, 1, 1, 0, 0, 0, 0, 0, 0, 0, 0, 0],\n",
        "          [0, 1, 0, 1, 1, 1, 0, 0, 0, 0, 0, 0, 0, 0, 0],\n",
        "          [0, 1, 0, 1, 1, 1, 0, 0, 0, 0, 0, 0, 0, 0, 0],\n",
        "          [0, 1, 0, 1, 1, 1, 0, 0, 0, 0, 0, 0, 0, 0, 0],\n",
        "          [0, 1, 0, 1, 1, 1, 0, 0, 0, 0, 0, 0, 0, 0, 0],\n",
        "          [0, 1, 0, 1, 1, 1, 0, 0, 0, 0, 0, 0, 0, 0, 0],\n",
        "          [0, 1, 0, 0, 0, 0, 0, 0, 0, 0, 0, 0, 0, 0, 0],\n",
        "          [0, 1, 1, 1, 1, 1, 0, 0, 0, 0, 0, 0, 0, 0, 0],\n",
        "          [0, 1, 0, 1, 1, 1, 0, 0, 0, 0, 0, 0, 0, 0, 0],\n",
        "          [0, 0, 0, 0, 0, 0, 0, 0, 0, 0, 0, 0, 0, 0, 0]]\n",
        "        self.assertEqual(solution(map_big_easy_0), 34)\n",
        "\n",
        "        map_big_easy = [\n",
        "            [0, 0, 0, 0, 0, 0, 1, 1, 1, 1, 1, 1, 1, 1, 1],\n",
        "            [1, 1, 1, 1, 1, 0, 0, 0, 0, 0, 0, 0, 0, 0, 0],\n",
        "            [0, 0, 0, 0, 0, 0, 0, 1, 1, 1, 1, 1, 1, 0, 1],\n",
        "            [1, 1, 0, 1, 1, 1, 1, 0, 0, 0, 0, 0, 0, 0, 0],\n",
        "            [0, 1, 0, 1, 1, 1, 0, 0, 0, 0, 0, 0, 0, 0, 0],\n",
        "            [0, 0, 0, 0, 0, 0, 0, 0, 0, 0, 0, 0, 0, 0, 0],\n",
        "            [0, 0, 0, 0, 0, 0, 1, 1, 1, 1, 1, 1, 1, 1, 0],\n",
        "            [1, 1, 1, 1, 1, 1, 0, 0, 0, 0, 0, 0, 0, 0, 0],\n",
        "            [0, 0, 0, 0, 0, 0, 0, 1, 1, 1, 1, 1, 1, 0, 1],\n",
        "            [1, 1, 0, 1, 1, 1, 1, 0, 0, 0, 0, 0, 0, 0, 0],\n",
        "            [0, 1, 0, 1, 1, 1, 0, 0, 0, 0, 0, 0, 0, 0, 0],\n",
        "            [0, 1, 0, 1, 1, 1, 0, 0, 0, 0, 0, 0, 0, 0, 0],\n",
        "            [0, 1, 0, 1, 1, 1, 0, 0, 0, 0, 0, 0, 0, 0, 0],\n",
        "            [0, 1, 0, 1, 1, 1, 0, 0, 0, 0, 0, 0, 0, 0, 0],\n",
        "            [0, 1, 0, 1, 1, 1, 0, 0, 0, 0, 0, 0, 0, 0, 0],\n",
        "            [0, 1, 0, 1, 1, 1, 0, 0, 0, 0, 0, 0, 0, 0, 0],\n",
        "            [0, 1, 0, 0, 0, 0, 0, 0, 0, 0, 0, 0, 0, 0, 0],\n",
        "            [0, 1, 1, 1, 1, 1, 0, 0, 0, 0, 0, 0, 0, 0, 0],\n",
        "            [0, 1, 0, 1, 1, 1, 0, 0, 0, 0, 0, 0, 0, 0, 0],\n",
        "            [0, 0, 0, 0, 0, 0, 0, 0, 0, 0, 0, 0, 0, 0, 0]]\n",
        "        self.assertEqual(solution(map_big_easy), 34)\n",
        "\n",
        "        map_6 = [\n",
        "          [0, 0, 0, 0, 0, 0, 1, 1, 1, 1, 1, 1, 1, 1, 1],\n",
        "          [1, 1, 1, 1, 1, 1, 0, 0, 0, 0, 0, 0, 0, 0, 0],\n",
        "          [0, 0, 0, 0, 0, 0, 0, 1, 1, 1, 1, 1, 1, 0, 1],\n",
        "          [1, 1, 0, 1, 1, 1, 1, 0, 0, 0, 0, 0, 0, 0, 0],\n",
        "          [0, 1, 0, 1, 1, 1, 0, 0, 0, 0, 0, 0, 0, 0, 0],\n",
        "          [0, 0, 0, 0, 0, 0, 0, 0, 0, 0, 0, 0, 0, 0, 0],\n",
        "          [0, 0, 0, 0, 0, 0, 1, 1, 1, 1, 1, 1, 1, 1, 0],\n",
        "          [1, 1, 1, 1, 1, 1, 0, 0, 0, 0, 0, 0, 0, 0, 0],\n",
        "          [0, 0, 0, 0, 0, 0, 0, 1, 1, 1, 1, 1, 1, 1, 1],\n",
        "          [1, 1, 0, 1, 1, 1, 1, 0, 0, 0, 0, 0, 0, 0, 0],\n",
        "          [0, 1, 0, 1, 1, 1, 0, 0, 0, 0, 0, 0, 0, 0, 0],\n",
        "          [0, 1, 0, 1, 1, 1, 0, 0, 0, 0, 0, 0, 0, 0, 0],\n",
        "          [0, 1, 0, 1, 1, 1, 0, 0, 0, 0, 0, 0, 0, 0, 0],\n",
        "          [0, 1, 0, 1, 1, 1, 0, 0, 0, 0, 0, 0, 0, 0, 0],\n",
        "          [0, 1, 0, 1, 1, 1, 0, 0, 0, 0, 0, 0, 0, 0, 0],\n",
        "          [0, 1, 0, 1, 1, 1, 0, 0, 0, 0, 0, 0, 0, 0, 0],\n",
        "          [0, 1, 0, 0, 0, 0, 0, 0, 0, 0, 0, 0, 0, 0, 0],\n",
        "          [0, 1, 1, 1, 1, 1, 0, 0, 0, 0, 0, 0, 0, 0, 0],\n",
        "          [0, 1, 0, 1, 1, 1, 0, 0, 0, 0, 0, 0, 0, 0, 0],\n",
        "          [0, 0, 0, 0, 0, 0, 0, 0, 0, 0, 0, 0, 0, 0, 0]]\n",
        "        self.assertEqual(solution(map_6), 58)\n",
        "        \n",
        "        self.assertEqual(7, solution([\n",
        "            [0, 1, 1, 0],\n",
        "            [0, 0, 0, 1],\n",
        "            [1, 1, 0, 0],\n",
        "            [1, 1, 1, 0]]))\n",
        "\n",
        "        self.assertEqual(11, solution([\n",
        "            [0, 0, 0, 0, 0, 0],\n",
        "            [1, 1, 1, 1, 1, 0],\n",
        "            [0, 0, 0, 0, 0, 0],\n",
        "            [0, 1, 1, 1, 1, 1],\n",
        "            [0, 1, 1, 1, 1, 1],\n",
        "            [0, 0, 0, 0, 0, 0]]))\n",
        "\n",
        "        self.assertEqual(8, solution([\n",
        "            [0, 1, 1, 0, 0],\n",
        "            [0, 0, 0, 1, 0],\n",
        "            [1, 1, 0, 0, 0],\n",
        "            [1, 1, 1, 0, 0]]))\n",
        "\n",
        "        self.assertEqual(15, solution([\n",
        "            [0, 1, 1, 0, 0, 0, 0, 0],\n",
        "            [0, 0, 0, 1, 0, 1, 1, 0],\n",
        "            [1, 1, 0, 0, 0, 1, 1, 1],\n",
        "            [1, 1, 1, 0, 0, 1, 1, 0]]))\n",
        "\n",
        "unittest.main(argv=[''], verbosity=2, exit=False)"
      ],
      "execution_count": 70,
      "outputs": [
        {
          "output_type": "stream",
          "text": [
            "test_solution (__main__.TestSolution) ... ok\n",
            "\n",
            "----------------------------------------------------------------------\n",
            "Ran 1 test in 0.007s\n",
            "\n",
            "OK\n"
          ],
          "name": "stderr"
        },
        {
          "output_type": "execute_result",
          "data": {
            "text/plain": [
              "<unittest.main.TestProgram at 0x7fd7dcb5a410>"
            ]
          },
          "metadata": {
            "tags": []
          },
          "execution_count": 70
        }
      ]
    }
  ]
}