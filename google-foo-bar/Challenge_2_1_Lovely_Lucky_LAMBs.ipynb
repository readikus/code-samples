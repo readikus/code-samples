{
  "nbformat": 4,
  "nbformat_minor": 0,
  "metadata": {
    "colab": {
      "name": "Challenge 2.1 - Lovely Lucky LAMBs.ipynb",
      "provenance": [],
      "authorship_tag": "ABX9TyOAbd03tKrNRbEUqfmixo37",
      "include_colab_link": true
    },
    "kernelspec": {
      "name": "python3",
      "display_name": "Python 3"
    },
    "language_info": {
      "name": "python"
    }
  },
  "cells": [
    {
      "cell_type": "markdown",
      "metadata": {
        "id": "view-in-github",
        "colab_type": "text"
      },
      "source": [
        "<a href=\"https://colab.research.google.com/github/readikus/code-samples/blob/main/google-foo-bar/Challenge_2_1_Lovely_Lucky_LAMBs.ipynb\" target=\"_parent\"><img src=\"https://colab.research.google.com/assets/colab-badge.svg\" alt=\"Open In Colab\"/></a>"
      ]
    },
    {
      "cell_type": "markdown",
      "metadata": {
        "id": "cgRTQ3pj26nu"
      },
      "source": [
        "# Lovely Lucky LAMBs\n",
        "\n",
        "## Problem Definition:\n",
        "\n",
        "Being a henchman isn't all drudgery. Occasionally, when Commander Lambda is feeling generous, she'll hand out Lucky LAMBs (Lambda's All-purpose Money Bucks). Henchmen can use Lucky LAMBs to buy things like a second \n",
        "pair of socks, a pillow for their bunks, or even a third daily meal!\n",
        "\n",
        "However, actually passing out LAMBs isn't easy. Each henchman squad has a strict seniority ranking which must be respected - or else the henchmen will revolt and you'll all get demoted back to minions again! \n",
        "\n",
        "There are 4 key rules which you must follow in order to avoid a revolt:\n",
        "\n",
        "   1. The most junior henchman (with the least seniority) gets exactly 1 LAMB.  (There will always be at least 1 henchman on a team.)\n",
        "\n",
        "   2. A henchman will revolt if the person who ranks immediately above them gets more than double the number of LAMBs they do.\n",
        "\n",
        "   3. A henchman will revolt if the amount of LAMBs given to their next two subordinates combined is more than the number of LAMBs they get.  (Note that the two most junior henchmen won't have two subordinates, so this rule doesn't apply to them.  The 2nd most junior henchman would require at least as many LAMBs as the most junior henchman.)\n",
        "\n",
        "   4. You can always find more henchmen to pay - the Commander has plenty of employees.  If there are enough LAMBs left over such that another henchman could be added as the most senior while obeying the other rules, you must always add and pay that henchman.\n",
        "\n",
        "Note that you may not be able to hand out all the LAMBs. A single LAMB cannot be subdivided. That is, all henchmen must get a positive integer number of LAMBs.\n",
        "\n",
        "Write a function called solution(total_lambs), where total_lambs is the integer number of LAMBs in the handout you are trying to divide. It should return an integer which represents the difference between the minimum and maximum number of henchmen who can share the LAMBs (that is, being as generous as possible to those you pay and as stingy as possible, respectively) while still obeying all of the above rules to avoid a revolt.  For instance, if you had 10 LAMBs and were as generous as possible, you could only pay 3 henchmen (1, 2, and 4 LAMBs, in order of ascending seniority), whereas if you were as stingy as possible, you could pay 4 henchmen (1, 1, 2, and 3 LAMBs). Therefore, solution(10) should return 4-3 = 1.\n",
        "\n",
        "To keep things interesting, Commander Lambda varies the sizes of the Lucky LAMB payouts. You can expect total_lambs to always be a positive integer less than 1 billion (10 ^ 9)."
      ]
    },
    {
      "cell_type": "code",
      "metadata": {
        "id": "_jbhDZ271tJ9"
      },
      "source": [
        "import math\n",
        "\n",
        "def solution(total_lambs):\n",
        "    return abs(int(stingy(total_lambs) - generous(total_lambs)))\n",
        "\n",
        "def generous(lambs):\n",
        "    return int(math.log(lambs + 1, 2))\n",
        "\n",
        "fib = [1, 1]\n",
        "def stingy(max):\n",
        "    # handle base cases\n",
        "    if (max == 1):\n",
        "        return 1\n",
        "    elif max == 2:\n",
        "        return 2\n",
        "\n",
        "    # keep track of the running total and the sequence\n",
        "    total = 2 \n",
        "    i = 2\n",
        "    while total < max:\n",
        "        # go up following the fib. sequence - i.e. sum last 2 numbers\n",
        "\n",
        "        # ensure we have computed the ith fib. number\n",
        "        if len(fib) <= i:\n",
        "            fib.append(fib[i - 1] + fib[i - 2])\n",
        "\n",
        "        # will it put us above the max?\n",
        "        if ((total + fib[i]) > max):\n",
        "            return i\n",
        "\n",
        "        total += fib[i]\n",
        "        i += 1\n",
        "    return i"
      ],
      "execution_count": 2,
      "outputs": []
    },
    {
      "cell_type": "code",
      "metadata": {
        "colab": {
          "base_uri": "https://localhost:8080/"
        },
        "id": "wpGC-5r17NsZ",
        "outputId": "727f93c1-bdef-4401-d97a-49e6a3d3757b"
      },
      "source": [
        "import unittest\n",
        "\n",
        "class TestSolution(unittest.TestCase):\n",
        "    \n",
        "    def test_solution(self):      \n",
        "        self.assertEqual(solution(10), 1)\n",
        "    def test_generous(self):\n",
        "        self.assertEqual(generous(1), 1)\n",
        "        self.assertEqual(generous(2), 1)\n",
        "        self.assertEqual(generous(10), 3)\n",
        "    def test_stingy(self):\n",
        "        self.assertEqual(stingy(143), 10)\n",
        "        self.assertEqual(stingy(2), 2)\n",
        "        \n",
        "\n",
        "unittest.main(argv=[''], verbosity=2, exit=False)"
      ],
      "execution_count": 4,
      "outputs": [
        {
          "output_type": "stream",
          "text": [
            "test_generous (__main__.TestSolution) ... ok\n",
            "test_solution (__main__.TestSolution) ... ok\n",
            "test_stingy (__main__.TestSolution) ... ok\n",
            "\n",
            "----------------------------------------------------------------------\n",
            "Ran 3 tests in 0.008s\n",
            "\n",
            "OK\n"
          ],
          "name": "stderr"
        },
        {
          "output_type": "execute_result",
          "data": {
            "text/plain": [
              "<unittest.main.TestProgram at 0x7f465165b910>"
            ]
          },
          "metadata": {
            "tags": []
          },
          "execution_count": 4
        }
      ]
    },
    {
      "cell_type": "markdown",
      "metadata": {
        "id": "xTbp5uN58gS_"
      },
      "source": [
        "**Notes on solution:** the number series for the generous algorithm follows the Fibonacci sequence, so we can make use of the various properities of that (i.e. dynamic programming/memonization)."
      ]
    }
  ]
}