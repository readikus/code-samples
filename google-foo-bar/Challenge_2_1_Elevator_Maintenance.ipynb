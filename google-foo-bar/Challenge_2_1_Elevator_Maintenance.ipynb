{
  "nbformat": 4,
  "nbformat_minor": 0,
  "metadata": {
    "colab": {
      "name": "Challenge 2.1 - Elevator Maintenance.ipynb",
      "provenance": [],
      "collapsed_sections": [],
      "authorship_tag": "ABX9TyPJba0zocSrJDbnvyCII41G",
      "include_colab_link": true
    },
    "kernelspec": {
      "name": "python3",
      "display_name": "Python 3"
    },
    "language_info": {
      "name": "python"
    }
  },
  "cells": [
    {
      "cell_type": "markdown",
      "metadata": {
        "id": "view-in-github",
        "colab_type": "text"
      },
      "source": [
        "<a href=\"https://colab.research.google.com/github/readikus/code-samples/blob/main/google-foo-bar/Challenge_2_1_Elevator_Maintenance.ipynb\" target=\"_parent\"><img src=\"https://colab.research.google.com/assets/colab-badge.svg\" alt=\"Open In Colab\"/></a>"
      ]
    },
    {
      "cell_type": "markdown",
      "metadata": {
        "id": "G_qOBopRh3Uy"
      },
      "source": [
        "# Elevator Maintenance\n",
        "\n",
        "You've been assigned the onerous task of elevator maintenance - ugh! It wouldn't be so bad, except that all the elevator documentation has been lying in a disorganized pile at the bottom of a filing cabinet for years, and you don't even know what elevator version numbers you'll be working on. \n",
        "\n",
        "Elevator versions are represented by a series of numbers, divided up into major, minor and revision integers. New versions of an elevator increase the major number, e.g. 1, 2, 3, and so on. When new features are added to an elevator without being a complete new version, a second number named \"minor\" can be used to represent those new additions, e.g. 1.0, 1.1, 1.2, etc. Small fixes or maintenance work can be represented by a third number named \"revision\", e.g. 1.1.1, 1.1.2, 1.2.0, and so on. The number zero can be used as a major for pre-release versions of elevators, e.g. 0.1, 0.5, 0.9.2, etc (Commander Lambda is careful to always beta test her new technology, with her loyal henchmen as subjects!).\n",
        "\n",
        "Given a list of elevator versions represented as strings, write a function solution(l) that returns the same list sorted in ascending order by major, minor, and revision number so that you can identify the current elevator version. The versions in list l will always contain major numbers, but minor and revision numbers are optional. If the version contains a revision number, then it will also have a minor number.\n",
        "\n",
        "For example, given the list l as , the function solution(l) would return the list [\"1.0\", \"1.0.2\", \"1.0.12\", \"1.1.2\", \"1.3.3\"]. If two or more versions are equivalent but one version contains more numbers than the others, then these versions must be sorted ascending based on how many numbers they have, e.g [\"1\", \"1.0\", \"1.0.0\"]. The number of elements in the list l will be at least 1 and will not exceed 100."
      ]
    },
    {
      "cell_type": "code",
      "metadata": {
        "id": "AsxG0XRbiVj-"
      },
      "source": [
        "def solution(l):\n",
        "\n",
        "    class Version:\n",
        "        def __init__(self, version_str):\n",
        "            self.version_str = version_str\n",
        "            nums = version_str.split('.')\n",
        "            self.major = int(nums[0])\n",
        "            self.minor = int(nums[1]) if len(nums) > 1 else -1\n",
        "            self.revision = int(nums[2]) if len(nums) > 2 else -1\n",
        "\n",
        "    sortable_as = [Version(version_str) for version_str in l]\n",
        "\n",
        "    sorted_list = sorted(sortable_as, key=lambda x: (x.major, x.minor, x.revision), reverse=False)\n",
        "    return [version.version_str for version in sorted_list]"
      ],
      "execution_count": 9,
      "outputs": []
    },
    {
      "cell_type": "markdown",
      "metadata": {
        "id": "t0jpyrmak_TC"
      },
      "source": [
        "## Notes on solution\n",
        "This was a relatively simple function, that split the string version into a the component fields, so a simple lambda could be used for the sort. When no minor/revision was specified, -1 was used to ensure that `x.0` ranks accordingly.\n",
        "\n",
        "The algorithm first parses the strings into these `Version` object, and then applies the lambda sort, before preocessing the result to just return the string values. "
      ]
    },
    {
      "cell_type": "code",
      "metadata": {
        "colab": {
          "base_uri": "https://localhost:8080/"
        },
        "id": "ZZkXe1V5kf8l",
        "outputId": "d59c21ff-8885-4657-b087-5f112cf4304e"
      },
      "source": [
        "import unittest\n",
        "\n",
        "class TestSolution(unittest.TestCase):\n",
        "    \n",
        "    def test_solution(self):\n",
        "        self.assertEqual(solution([\"1.11\", \"2.0.0\", \"1.2\", \"2\", \"0.1\", \"1.2.1\", \"1.1.1\", \"2.0\"]), ['0.1', '1.1.1', '1.2', '1.2.1', '1.11', '2', '2.0', '2.0.0'])\n",
        "        \n",
        "\n",
        "unittest.main(argv=[''], verbosity=2, exit=False)\n"
      ],
      "execution_count": 10,
      "outputs": [
        {
          "output_type": "stream",
          "text": [
            "test_solution (__main__.TestSolution) ... ok\n",
            "\n",
            "----------------------------------------------------------------------\n",
            "Ran 1 test in 0.007s\n",
            "\n",
            "OK\n"
          ],
          "name": "stderr"
        },
        {
          "output_type": "execute_result",
          "data": {
            "text/plain": [
              "<unittest.main.TestProgram at 0x7f2eca2c9b90>"
            ]
          },
          "metadata": {
            "tags": []
          },
          "execution_count": 10
        }
      ]
    }
  ]
}
